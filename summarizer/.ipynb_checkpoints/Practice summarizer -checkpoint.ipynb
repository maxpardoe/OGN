{
 "cells": [
  {
   "cell_type": "code",
   "execution_count": 1,
   "metadata": {},
   "outputs": [],
   "source": [
    "import numpy as np\n",
    "from collections import Counter "
   ]
  },
  {
   "cell_type": "code",
   "execution_count": 2,
   "metadata": {},
   "outputs": [],
   "source": [
    "news = '''The UK’s most powerful supercomputer, which its creators hope will make the process of preventing, diagnosing and treating disease better, faster and cheaper, is operational.\n",
    "\n",
    "Christened Cambridge-1, the supercomputer represents a $100m investment by US-based computing company Nvidia. The idea capitalises on artificial intelligence (AI) – which combines big data with computer science to facilitate problem-solving – in healthcare.\n",
    "\n",
    "“If you could imagine ganging up 10 refrigerators in a row and then having several rows of those refrigerators – that is the size and shape of this computer,” said Kimberly Powell, vice-president of healthcare at Nvidia.\n",
    "\n",
    "The UK has already made strides with massive datasets such as the UK Biobank, which encompasses anonymised of medical and lifestyle records from half a million middle-aged Britons.\n",
    "\n",
    "AI for healthcare is booming in the UK, with a range of startups and larger pharmaceutical companies mining the vast quantities of data available to discover potential drugs, pinpoint why some people are susceptible to certain diseases, and improve and personalise patient care. \n",
    "Cambridge-1’s first projects will be with AstraZeneca, GSK, Guy’s and St Thomas’ NHS foundation trust, King’s College London and Oxford Nanopore. They will seek to develop a deeper understanding of diseases such as dementia, design new drugs, and improve the accuracy of finding disease-causing variations in human genomes.\n",
    "\n",
    "A key way the supercomputer can help, said Dr Kim Branson, global head of artificial intelligence and machine learning at GSK, is in patient care.\n",
    "\n",
    "In the field of immuno-oncology, for instance, existing medicines harness the patient’s own immune system to fight cancer. But it isn’t always apparent which patients will gain the most benefit from these drugs – some of that information is hidden in the imaging of the tumours and in numerical clues found in blood. Cambridge-1 can be key to helping fuse these different datasets, and building large models to help determine the best course of treatment for patients, Branson said.\n",
    "\n",
    "Traditional drug development is expensive, protracted and comes with a low chance of success. The idea that machines can wean researchers away from the breadth of resources it takes to discover a potentially potent compound and pinpoint the medical conditions it could be used to treat has long been promised.\n",
    "\n",
    "But the technology is still in its early days and the hype is yet to be fully realised, said Roel Bulthuis, head of the healthcare team at Inkef Capital, a Dutch venture capital fund focused on technology and healthcare. That being said, Bulthuis is excited about the promise of the supercomputer.\n",
    "\n",
    "“It’s great to see it in the UK ecosystem,” he said. “Many European healthcare systems are not as advanced in their thinking about using data and integrating that into the healthcare system.”\n",
    "\n",
    "The UK has the ingredients to take advantage of this computing ability because of its huge resources of data. As well as large structured datasets like the UK Biobank, it has access to a wide range of clinicians via the NHS. No such comparable infrastructure exists at such a size elsewhere, GSK’s Branson said. “This is why GSK built an AI team and AI hubs in London and not in San Francisco, where I am.”'''"
   ]
  },
  {
   "cell_type": "code",
   "execution_count": 3,
   "metadata": {},
   "outputs": [],
   "source": [
    "wordfreq = Counter(news.lower().split())\n",
    "sentence_list = news.lower().split('.')"
   ]
  },
  {
   "cell_type": "code",
   "execution_count": 7,
   "metadata": {},
   "outputs": [],
   "source": [
    "def sentence_weight(data):\n",
    "    weights = []\n",
    "    for words in data:\n",
    "        temp = 0\n",
    "        for word in words:\n",
    "            temp += wordfreq[word]\n",
    "        weights.append(temp)\n",
    "    return weights"
   ]
  },
  {
   "cell_type": "code",
   "execution_count": 9,
   "metadata": {},
   "outputs": [],
   "source": [
    "rank = "
   ]
  },
  {
   "cell_type": "code",
   "execution_count": 16,
   "metadata": {},
   "outputs": [
    {
     "ename": "NameError",
     "evalue": "name 'a' is not defined",
     "output_type": "error",
     "traceback": [
      "\u001b[0;31m---------------------------------------------------------------------------\u001b[0m",
      "\u001b[0;31mNameError\u001b[0m                                 Traceback (most recent call last)",
      "\u001b[0;32m<ipython-input-16-139f8aad0fcd>\u001b[0m in \u001b[0;36m<module>\u001b[0;34m\u001b[0m\n\u001b[1;32m      1\u001b[0m \u001b[0mn\u001b[0m \u001b[0;34m=\u001b[0m \u001b[0;36m2\u001b[0m\u001b[0;34m\u001b[0m\u001b[0;34m\u001b[0m\u001b[0m\n\u001b[1;32m      2\u001b[0m \u001b[0mresult\u001b[0m \u001b[0;34m=\u001b[0m \u001b[0;34m''\u001b[0m\u001b[0;34m\u001b[0m\u001b[0;34m\u001b[0m\u001b[0m\n\u001b[0;32m----> 3\u001b[0;31m \u001b[0msort_list\u001b[0m \u001b[0;34m=\u001b[0m \u001b[0mnp\u001b[0m\u001b[0;34m.\u001b[0m\u001b[0margsort\u001b[0m\u001b[0;34m(\u001b[0m\u001b[0ma\u001b[0m\u001b[0;34m)\u001b[0m\u001b[0;34m[\u001b[0m\u001b[0;34m:\u001b[0m\u001b[0;34m:\u001b[0m\u001b[0;34m-\u001b[0m\u001b[0;36m1\u001b[0m\u001b[0;34m]\u001b[0m\u001b[0;34m[\u001b[0m\u001b[0;34m:\u001b[0m\u001b[0mn\u001b[0m\u001b[0;34m]\u001b[0m\u001b[0;34m\u001b[0m\u001b[0;34m\u001b[0m\u001b[0m\n\u001b[0m\u001b[1;32m      4\u001b[0m \u001b[0;32mfor\u001b[0m \u001b[0mi\u001b[0m \u001b[0;32min\u001b[0m \u001b[0mrange\u001b[0m\u001b[0;34m(\u001b[0m\u001b[0mn\u001b[0m\u001b[0;34m)\u001b[0m\u001b[0;34m:\u001b[0m\u001b[0;34m\u001b[0m\u001b[0;34m\u001b[0m\u001b[0m\n\u001b[1;32m      5\u001b[0m     \u001b[0mresult\u001b[0m \u001b[0;34m+=\u001b[0m \u001b[0;34m'{} '\u001b[0m\u001b[0;34m.\u001b[0m\u001b[0mformat\u001b[0m\u001b[0;34m(\u001b[0m\u001b[0msentence_list\u001b[0m\u001b[0;34m[\u001b[0m\u001b[0msort_list\u001b[0m\u001b[0;34m[\u001b[0m\u001b[0mi\u001b[0m\u001b[0;34m]\u001b[0m\u001b[0;34m]\u001b[0m\u001b[0;34m)\u001b[0m\u001b[0;34m\u001b[0m\u001b[0;34m\u001b[0m\u001b[0m\n",
      "\u001b[0;31mNameError\u001b[0m: name 'a' is not defined"
     ]
    }
   ],
   "source": [
    "n = 2\n",
    "result = ''\n",
    "sort_list = np.argsort(a)[::-1][:n]\n",
    "for i in range(n):\n",
    "    result += '{} '.format(sentence_list[sort_list[i]])"
   ]
  },
  {
   "cell_type": "code",
   "execution_count": 12,
   "metadata": {},
   "outputs": [],
   "source": [
    "import numpy as np\n",
    "import nltk\n",
    "import re"
   ]
  },
  {
   "cell_type": "code",
   "execution_count": 14,
   "metadata": {},
   "outputs": [],
   "source": [
    "def sentence_split(paragraph):\n",
    "    return nltk.sent_tokenize(paragraph)"
   ]
  },
  {
   "cell_type": "code",
   "execution_count": null,
   "metadata": {},
   "outputs": [],
   "source": []
  }
 ],
 "metadata": {
  "kernelspec": {
   "display_name": "Python 3",
   "language": "python",
   "name": "python3"
  },
  "language_info": {
   "codemirror_mode": {
    "name": "ipython",
    "version": 3
   },
   "file_extension": ".py",
   "mimetype": "text/x-python",
   "name": "python",
   "nbconvert_exporter": "python",
   "pygments_lexer": "ipython3",
   "version": "3.8.3"
  }
 },
 "nbformat": 4,
 "nbformat_minor": 4
}
